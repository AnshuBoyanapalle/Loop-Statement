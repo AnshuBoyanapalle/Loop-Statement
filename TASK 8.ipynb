{
 "cells": [
  {
   "cell_type": "code",
   "execution_count": 6,
   "id": "f4e3498d",
   "metadata": {},
   "outputs": [
    {
     "name": "stdout",
     "output_type": "stream",
     "text": [
      "1 2 hello\n",
      "\n",
      "5 hello\n",
      "\n",
      "hello\n",
      "\n",
      "13 14 hello\n",
      "\n"
     ]
    }
   ],
   "source": [
    "x=[[1,2,3,4],[5,6,7,8],[9,10,11,12],[13,14,15,16]]\n",
    "for i in x:\n",
    "    #i = [1,2,3,4]\n",
    "    for j in i:\n",
    "        \n",
    "        if j%3==0:\n",
    "            break\n",
    "        print(j,end = ' ')\n",
    "        \n",
    "        \n",
    "    print('hello')\n",
    "    print()"
   ]
  },
  {
   "cell_type": "code",
   "execution_count": null,
   "id": "03617bf4",
   "metadata": {},
   "outputs": [],
   "source": []
  }
 ],
 "metadata": {
  "kernelspec": {
   "display_name": "Python 3 (ipykernel)",
   "language": "python",
   "name": "python3"
  },
  "language_info": {
   "codemirror_mode": {
    "name": "ipython",
    "version": 3
   },
   "file_extension": ".py",
   "mimetype": "text/x-python",
   "name": "python",
   "nbconvert_exporter": "python",
   "pygments_lexer": "ipython3",
   "version": "3.10.9"
  }
 },
 "nbformat": 4,
 "nbformat_minor": 5
}
